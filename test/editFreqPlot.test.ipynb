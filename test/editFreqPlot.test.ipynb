{
 "cells": [
  {
   "cell_type": "code",
   "execution_count": 1,
   "metadata": {},
   "outputs": [],
   "source": [
    "import os\n",
    "import seaborn as sns\n",
    "import pandas as pd\n",
    "import matplotlib.pyplot  as plt\n",
    "\n"
   ]
  },
  {
   "cell_type": "code",
   "execution_count": 6,
   "metadata": {},
   "outputs": [],
   "source": [
    "dir=r'X:\\users\\shangl02\\Test\\ampliCan.test2\\AS15\\output\\vs1\\edit_percent'\n",
    "\n",
    "def plot(infile, outfile):\n",
    "    ## load freq table, subset, transpose and *100\n",
    "    td=pd.read_table(infile, delimiter=',')\n",
    "    data=td[['%A','%C','%G','%T']].T\n",
    "    data=data.mul(100)  \n",
    "\n",
    "    pos=td['start'].T\n",
    "\n",
    "    ## rename columns\n",
    "    refNts=td.originally.values\n",
    "    for index, value in enumerate(refNts):\n",
    "        refNts[index] = pos[index] +' ('+value[0]+')'\n",
    "    data.columns=refNts\n",
    "    #print(data)\n",
    "\n",
    "    ## heatmap\n",
    "    fig, ax = plt.subplots(figsize=(30,3))         # Sample figsize in inches\n",
    "    #labels=data.applymap(lambda v:v if v!=0 else '')\n",
    "    plot = sns.heatmap(data, annot=True,fmt=\".2f\", linewidth=.5, cmap=\"YlOrBr\", square=True)\n",
    "    fig = plot.get_fiture()\n",
    "    fig.savefig(outfile)\n",
    "\n",
    "\n"
   ]
  },
  {
   "cell_type": "code",
   "execution_count": 9,
   "metadata": {},
   "outputs": [
    {
     "name": "stdout",
     "output_type": "stream",
     "text": [
      "HBG sg39_1.csv\n"
     ]
    },
    {
     "ename": "UFuncTypeError",
     "evalue": "ufunc 'add' did not contain a loop with signature matching types (dtype('int64'), dtype('<U2')) -> None",
     "output_type": "error",
     "traceback": [
      "\u001b[1;31m---------------------------------------------------------------------------\u001b[0m",
      "\u001b[1;31mUFuncTypeError\u001b[0m                            Traceback (most recent call last)",
      "Cell \u001b[1;32mIn[9], line 6\u001b[0m\n\u001b[0;32m      4\u001b[0m infile \u001b[39m=\u001b[39m os\u001b[39m.\u001b[39mpath\u001b[39m.\u001b[39mjoin(\u001b[39mdir\u001b[39m,file)\n\u001b[0;32m      5\u001b[0m plotFile \u001b[39m=\u001b[39m os\u001b[39m.\u001b[39mpath\u001b[39m.\u001b[39mjoin(\u001b[39mdir\u001b[39m, file\u001b[39m+\u001b[39m\u001b[39m'\u001b[39m\u001b[39m.freqHeatmap.png\u001b[39m\u001b[39m'\u001b[39m)\n\u001b[1;32m----> 6\u001b[0m plot(infile, plotFile)\n",
      "Cell \u001b[1;32mIn[6], line 14\u001b[0m, in \u001b[0;36mplot\u001b[1;34m(infile, outfile)\u001b[0m\n\u001b[0;32m     12\u001b[0m refNts\u001b[39m=\u001b[39mtd\u001b[39m.\u001b[39moriginally\u001b[39m.\u001b[39mvalues\n\u001b[0;32m     13\u001b[0m \u001b[39mfor\u001b[39;00m index, value \u001b[39min\u001b[39;00m \u001b[39menumerate\u001b[39m(refNts):\n\u001b[1;32m---> 14\u001b[0m     refNts[index] \u001b[39m=\u001b[39m pos[index] \u001b[39m+\u001b[39;49m\u001b[39m'\u001b[39;49m\u001b[39m (\u001b[39;49m\u001b[39m'\u001b[39;49m\u001b[39m+\u001b[39mvalue[\u001b[39m0\u001b[39m]\u001b[39m+\u001b[39m\u001b[39m'\u001b[39m\u001b[39m)\u001b[39m\u001b[39m'\u001b[39m\n\u001b[0;32m     15\u001b[0m data\u001b[39m.\u001b[39mcolumns\u001b[39m=\u001b[39mrefNts\n\u001b[0;32m     16\u001b[0m \u001b[39m#print(data)\u001b[39;00m\n\u001b[0;32m     17\u001b[0m \n\u001b[0;32m     18\u001b[0m \u001b[39m## heatmap\u001b[39;00m\n",
      "\u001b[1;31mUFuncTypeError\u001b[0m: ufunc 'add' did not contain a loop with signature matching types (dtype('int64'), dtype('<U2')) -> None"
     ]
    }
   ],
   "source": [
    "for file in os.listdir(dir):\n",
    "    if file.endswith(\".csv\"):\n",
    "        print(file)\n",
    "        infile = os.path.join(dir,file)\n",
    "        plotFile = os.path.join(dir, file+'.freqHeatmap.png')\n",
    "        plot(infile, plotFile)\n"
   ]
  },
  {
   "cell_type": "code",
   "execution_count": 4,
   "metadata": {},
   "outputs": [
    {
     "ename": "NameError",
     "evalue": "name 'data' is not defined",
     "output_type": "error",
     "traceback": [
      "\u001b[1;31m---------------------------------------------------------------------------\u001b[0m",
      "\u001b[1;31mNameError\u001b[0m                                 Traceback (most recent call last)",
      "Cell \u001b[1;32mIn[4], line 5\u001b[0m\n\u001b[0;32m      2\u001b[0m fig, ax \u001b[39m=\u001b[39m plt\u001b[39m.\u001b[39msubplots(figsize\u001b[39m=\u001b[39m(\u001b[39m30\u001b[39m,\u001b[39m3\u001b[39m))         \u001b[39m# Sample figsize in inches\u001b[39;00m\n\u001b[0;32m      4\u001b[0m \u001b[39m#labels=data.applymap(lambda v:v if v!=0 else '')\u001b[39;00m\n\u001b[1;32m----> 5\u001b[0m sns\u001b[39m.\u001b[39mheatmap(data, annot\u001b[39m=\u001b[39m\u001b[39mTrue\u001b[39;00m,fmt\u001b[39m=\u001b[39m\u001b[39m\"\u001b[39m\u001b[39m.2f\u001b[39m\u001b[39m\"\u001b[39m, linewidth\u001b[39m=\u001b[39m\u001b[39m.5\u001b[39m, cmap\u001b[39m=\u001b[39m\u001b[39m\"\u001b[39m\u001b[39mYlOrBr\u001b[39m\u001b[39m\"\u001b[39m, square\u001b[39m=\u001b[39m\u001b[39mTrue\u001b[39;00m)\n",
      "\u001b[1;31mNameError\u001b[0m: name 'data' is not defined"
     ]
    },
    {
     "data": {
      "image/png": "[encoded data removed]",
      "text/plain": [
       "<Figure size 3000x300 with 1 Axes>"
      ]
     },
     "metadata": {},
     "output_type": "display_data"
    }
   ],
   "source": [
    "import matplotlib.pyplot  as plt\n",
    "fig, ax = plt.subplots(figsize=(30,3))         # Sample figsize in inches\n",
    "\n",
    "#labels=data.applymap(lambda v:v if v!=0 else '')\n",
    "sns.heatmap(data, annot=True,fmt=\".2f\", linewidth=.5, cmap=\"YlOrBr\", square=True)\n"
   ]
  },
  {
   "cell_type": "code",
   "execution_count": 54,
   "metadata": {},
   "outputs": [
    {
     "name": "stdout",
     "output_type": "stream",
     "text": [
      "        (T,)      (A,)      (G,)      (T,)      (G,)      (T,)      (G,)  \\\n",
      "%A  0.000183  0.999320  0.000237  0.000129  0.000151  0.000129  0.000129   \n",
      "%C  0.000151  0.000173  0.000043  0.000119  0.000032  0.000065  0.000076   \n",
      "%G  0.000173  0.000399  0.999461  0.000442  0.999428  0.000658  0.999256   \n",
      "%T  0.999493  0.000108  0.000259  0.999310  0.000388  0.999148  0.000539   \n",
      "\n",
      "        (G,)      (G,)      (G,)  ...      (C,)      (A,)      (A,)      (G,)  \\\n",
      "%A  0.000248  0.000140  0.000237  ...  0.000744  0.999676  0.999687  0.000119   \n",
      "%C  0.000022  0.000119  0.000032  ...  0.999051  0.000119  0.000097       NaN   \n",
      "%G  0.999461  0.999547  0.999622  ...  0.000032  0.000140  0.000119       NaN   \n",
      "%T  0.000270  0.000194  0.000108  ...  0.000173  0.000065  0.000097  0.000388   \n",
      "\n",
      "        (A,)      (G,)      (G,)      (A,)      (T,)      (A,)  \n",
      "%A  0.998069  0.000291  0.000140  0.999644  0.000097  0.999612  \n",
      "%C  0.000043  0.000032  0.000011  0.000022  0.000076  0.000097  \n",
      "%G  0.001780  0.999072  0.999687  0.000194  0.000129  0.000108  \n",
      "%T  0.000108  0.000604  0.000162  0.000140  0.999698  0.000183  \n",
      "\n",
      "[4 rows x 30 columns]\n"
     ]
    }
   ],
   "source": [
    "print(labels)\n"
   ]
  }
 ],
 "metadata": {
  "kernelspec": {
   "display_name": "Python 3",
   "language": "python",
   "name": "python3"
  },
  "language_info": {
   "codemirror_mode": {
    "name": "ipython",
    "version": 3
   },
   "file_extension": ".py",
   "mimetype": "text/x-python",
   "name": "python",
   "nbconvert_exporter": "python",
   "pygments_lexer": "ipython3",
   "version": "3.10.10"
  },
  "orig_nbformat": 4,
  "vscode": {
   "interpreter": {
    "hash": "9ee08997ade7e9cc626f2a6fc3903e4d8ebc0d3b740e112f7f532dcd60319aea"
   }
  }
 },
 "nbformat": 4,
 "nbformat_minor": 2
}
